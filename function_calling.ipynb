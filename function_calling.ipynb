{
 "cells": [
  {
   "cell_type": "code",
   "id": "initial_id",
   "metadata": {
    "collapsed": true,
    "ExecuteTime": {
     "end_time": "2024-09-19T11:06:36.112507Z",
     "start_time": "2024-09-19T11:06:23.654385Z"
    }
   },
   "source": "!pip install openai -q",
   "outputs": [],
   "execution_count": 1
  },
  {
   "metadata": {
    "ExecuteTime": {
     "end_time": "2024-09-19T12:12:20.225346Z",
     "start_time": "2024-09-19T12:12:19.812455Z"
    }
   },
   "cell_type": "code",
   "source": [
    "import os\n",
    "\n",
    "from dotenv import load_dotenv\n",
    "from openai import OpenAI\n",
    "import json\n",
    "\n",
    "load_dotenv()\n",
    "\n",
    "# Load the API key from the .env file\n",
    "OPENAI_KEY = os.getenv(\"OPENAI_KEY\")\n",
    "\n",
    " \n",
    "client = OpenAI(api_key=OPENAI_KEY)"
   ],
   "id": "14563e77c0870616",
   "outputs": [],
   "execution_count": 3
  },
  {
   "metadata": {},
   "cell_type": "markdown",
   "source": "## Get the current weather with Static Data",
   "id": "492336a9dfbe99a7"
  },
  {
   "metadata": {
    "ExecuteTime": {
     "end_time": "2024-09-19T12:12:25.775746Z",
     "start_time": "2024-09-19T12:12:25.767648Z"
    }
   },
   "cell_type": "code",
   "source": [
    "def get_current_weather(location, unit=\"Fahrenheit\"):\n",
    "    \"\"\"\n",
    "    Get the current weather of a location\n",
    "    :param location: str: The location of the weather\n",
    "    :param unit: str: The unit of the temperature\n",
    "    :return: str: The current weather\n",
    "    \"\"\"\n",
    "\n",
    "    weather_info = {\n",
    "        \"location\": location,\n",
    "        \"unit\": unit,\n",
    "        \"temperature\": \"70\",\n",
    "        \"forcast\": [\"sunny\", \"clear sky\", \"windy\"]\n",
    "    }\n",
    "    return json.dumps(weather_info)"
   ],
   "id": "3146bc8542ed8fa6",
   "outputs": [],
   "execution_count": 4
  },
  {
   "metadata": {},
   "cell_type": "markdown",
   "source": "## Append messages to the chatbot",
   "id": "6903722f7e9a9012"
  },
  {
   "metadata": {
    "ExecuteTime": {
     "end_time": "2024-09-19T12:13:15.879972Z",
     "start_time": "2024-09-19T12:13:15.874219Z"
    }
   },
   "cell_type": "code",
   "source": [
    "messages = [\n",
    "    {\"role\": \"user\", \"content\": \"what is the live weather in boston?\"}\n",
    "]"
   ],
   "id": "93957349991ecd8c",
   "outputs": [],
   "execution_count": 5
  },
  {
   "metadata": {},
   "cell_type": "code",
   "outputs": [],
   "execution_count": null,
   "source": "",
   "id": "7343b7940114ee5f"
  },
  {
   "metadata": {},
   "cell_type": "markdown",
   "source": "## Functions",
   "id": "be3d67ac3d8b2800"
  },
  {
   "metadata": {
    "ExecuteTime": {
     "end_time": "2024-09-19T12:14:12.250561Z",
     "start_time": "2024-09-19T12:14:12.244231Z"
    }
   },
   "cell_type": "code",
   "source": [
    "functions = [\n",
    "    {\n",
    "        \"name\": \"get_current_weather\",\n",
    "        \"description\": \"Get the current weather of a location\",\n",
    "        \"parameters\": {\n",
    "            \"type\": \"object\",\n",
    "            \"properties\": {\n",
    "                \"location\": {\n",
    "                    \"type\": \"string\",\n",
    "                    \"description\": \"The city and state e.g. Boston, MA\"\n",
    "                },\n",
    "                \"unit\": {\n",
    "                    \"type\": \"string\",\n",
    "                    \"enum\": [\"Fahrenheit\", \"Celsius\"],\n",
    "                },\n",
    "            },\n",
    "            \"required\": [\"location\"],\n",
    "        }\n",
    "    }\n",
    "]"
   ],
   "id": "153b9c1eb15c4ad1",
   "outputs": [],
   "execution_count": 6
  },
  {
   "metadata": {},
   "cell_type": "markdown",
   "source": "## Call the completion endpoint",
   "id": "74072ea872cf461c"
  },
  {
   "metadata": {
    "ExecuteTime": {
     "end_time": "2024-09-19T12:14:47.250023Z",
     "start_time": "2024-09-19T12:14:46.470471Z"
    }
   },
   "cell_type": "code",
   "source": [
    "response = client.chat.completions.create(\n",
    "    model=\"gpt-4o\",\n",
    "    messages=messages,\n",
    "    functions=functions,\n",
    "    function_call=\"auto\",  # auto is default, but we explicitly set it here\n",
    ")\n",
    "\n",
    "response_messages = response.choices[0].message\n",
    "print(response_messages)"
   ],
   "id": "eef125773fe5ec29",
   "outputs": [
    {
     "name": "stdout",
     "output_type": "stream",
     "text": [
      "ChatCompletionMessage(content=None, refusal=None, role='assistant', function_call=FunctionCall(arguments='{\"location\":\"Boston, MA\"}', name='get_current_weather'), tool_calls=None)\n"
     ]
    }
   ],
   "execution_count": 9
  },
  {
   "metadata": {},
   "cell_type": "markdown",
   "source": "## Extract the function name and arguments",
   "id": "a106ae0e43bad01c"
  },
  {
   "metadata": {
    "ExecuteTime": {
     "end_time": "2024-09-19T12:15:20.615117Z",
     "start_time": "2024-09-19T12:15:20.609539Z"
    }
   },
   "cell_type": "code",
   "source": [
    "function_name = response.choices[0].message.function_call.name\n",
    "function_args = json.loads(response.choices[0].message.function_call.arguments)"
   ],
   "id": "770ba3164596a37f",
   "outputs": [],
   "execution_count": 10
  },
  {
   "metadata": {},
   "cell_type": "markdown",
   "source": "## Get the function to call",
   "id": "f1baf2d865a8eb09"
  },
  {
   "metadata": {
    "ExecuteTime": {
     "end_time": "2024-09-19T12:16:41.288348Z",
     "start_time": "2024-09-19T12:16:41.283336Z"
    }
   },
   "cell_type": "code",
   "source": [
    "available_functions = {\n",
    "    \"get_current_weather\": get_current_weather\n",
    "}\n",
    "\n",
    "function_to_call = available_functions[function_name]"
   ],
   "id": "461c09d9dc2273ba",
   "outputs": [],
   "execution_count": 13
  },
  {
   "metadata": {},
   "cell_type": "markdown",
   "source": "## Call the function",
   "id": "44d981e7e6dee122"
  },
  {
   "metadata": {
    "ExecuteTime": {
     "end_time": "2024-09-19T12:17:28.560541Z",
     "start_time": "2024-09-19T12:17:28.553285Z"
    }
   },
   "cell_type": "code",
   "source": [
    "function_response = function_to_call(location=function_args.get(\"location\"))\n",
    "print(function_response)"
   ],
   "id": "ba7fa860b3c4cc6d",
   "outputs": [
    {
     "name": "stdout",
     "output_type": "stream",
     "text": [
      "{\"location\": \"Boston, MA\", \"unit\": \"Fahrenheit\", \"temperature\": \"70\", \"forcast\": [\"sunny\", \"clear sky\", \"windy\"]}\n"
     ]
    }
   ],
   "execution_count": 16
  },
  {
   "metadata": {
    "ExecuteTime": {
     "end_time": "2024-09-19T12:31:56.430276Z",
     "start_time": "2024-09-19T12:31:56.422329Z"
    }
   },
   "cell_type": "code",
   "source": [
    "messages.append(response_messages)\n",
    "messages.append(\n",
    "    {\n",
    "        \"role\": \"function\",\n",
    "        \"name\": function_name,\n",
    "        \"content\": function_response\n",
    "    }\n",
    ")\n",
    "print(messages)"
   ],
   "id": "4a8f8e4b7ef9a64d",
   "outputs": [
    {
     "name": "stdout",
     "output_type": "stream",
     "text": [
      "[{'role': 'user', 'content': 'what is the live weather in boston?'}, ChatCompletionMessage(content=None, refusal=None, role='assistant', function_call=FunctionCall(arguments='{\"location\":\"Boston, MA\"}', name='get_current_weather'), tool_calls=None), {'role': 'function', 'name': 'get_current_weather', 'content': '{\"location\": \"Boston, MA\", \"unit\": \"Fahrenheit\", \"temperature\": \"70\", \"forcast\": [\"sunny\", \"clear sky\", \"windy\"]}'}, ChatCompletionMessage(content=None, refusal=None, role='assistant', function_call=FunctionCall(arguments='{\"location\":\"Boston, MA\"}', name='get_current_weather'), tool_calls=None), {'role': 'function', 'name': 'get_current_weather', 'content': '{\"location\": \"Boston, MA\", \"unit\": \"Fahrenheit\", \"temperature\": \"70\", \"forcast\": [\"sunny\", \"clear sky\", \"windy\"]}'}, ChatCompletionMessage(content=None, refusal=None, role='assistant', function_call=FunctionCall(arguments='{\"location\":\"Boston, MA\"}', name='get_current_weather'), tool_calls=None), {'role': 'function', 'name': 'get_current_weather', 'content': '{\"location\": \"Boston, MA\", \"unit\": \"Fahrenheit\", \"temperature\": \"70\", \"forcast\": [\"sunny\", \"clear sky\", \"windy\"]}'}]\n"
     ]
    }
   ],
   "execution_count": 20
  },
  {
   "metadata": {
    "ExecuteTime": {
     "end_time": "2024-09-19T12:20:25.629371Z",
     "start_time": "2024-09-19T12:20:23.586993Z"
    }
   },
   "cell_type": "code",
   "source": [
    "final_response = client.chat.completions.create(\n",
    "    model=\"gpt-4o\",\n",
    "    messages=messages,\n",
    ")\n",
    "\n",
    "print(final_response.choices[0].message.content)"
   ],
   "id": "e24c8491d936beaf",
   "outputs": [
    {
     "name": "stdout",
     "output_type": "stream",
     "text": [
      "The current weather in Boston, MA is 70°F with sunny and clear skies. It is also windy.\n"
     ]
    }
   ],
   "execution_count": 19
  },
  {
   "metadata": {},
   "cell_type": "code",
   "outputs": [],
   "execution_count": null,
   "source": "",
   "id": "cf9ed00e0fae6a84"
  }
 ],
 "metadata": {
  "kernelspec": {
   "display_name": "Python 3",
   "language": "python",
   "name": "python3"
  },
  "language_info": {
   "codemirror_mode": {
    "name": "ipython",
    "version": 2
   },
   "file_extension": ".py",
   "mimetype": "text/x-python",
   "name": "python",
   "nbconvert_exporter": "python",
   "pygments_lexer": "ipython2",
   "version": "2.7.6"
  }
 },
 "nbformat": 4,
 "nbformat_minor": 5
}
